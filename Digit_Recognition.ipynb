{
 "cells": [
  {
   "cell_type": "code",
   "execution_count": 1,
   "metadata": {},
   "outputs": [
    {
     "name": "stderr",
     "output_type": "stream",
     "text": [
      "Using TensorFlow backend.\n"
     ]
    }
   ],
   "source": [
    "import pandas as pd\n",
    "import numpy as np\n",
    "import matplotlib.pyplot as plt\n",
    "import matplotlib.image as mpimg\n",
    "%matplotlib inline\n",
    "\n",
    "import numpy as np\n",
    "import cv2\n",
    "import math\n",
    "from scipy import ndimage\n",
    "\n",
    "\n",
    "np.random.seed(2)\n",
    "\n",
    "from sklearn.model_selection import train_test_split\n",
    "from sklearn.metrics import confusion_matrix\n",
    "import itertools\n",
    "\n",
    "from keras.utils.np_utils import to_categorical # convert to one-hot-encoding\n",
    "from keras.models import Sequential\n",
    "from keras.layers import Dense, Dropout, Flatten, Conv2D, MaxPool2D\n",
    "from keras.optimizers import RMSprop\n",
    "from keras.preprocessing.image import ImageDataGenerator\n",
    "from keras.callbacks import ReduceLROnPlateau\n",
    "from keras.layers.normalization import BatchNormalization\n"
   ]
  },
  {
   "cell_type": "code",
   "execution_count": 2,
   "metadata": {},
   "outputs": [],
   "source": [
    "train = pd.read_csv(\"train.csv\")\n",
    "test = pd.read_csv(\"test.csv\")"
   ]
  },
  {
   "cell_type": "code",
   "execution_count": 3,
   "metadata": {},
   "outputs": [
    {
     "data": {
      "text/plain": [
       "count       784\n",
       "unique        1\n",
       "top       False\n",
       "freq        784\n",
       "dtype: object"
      ]
     },
     "execution_count": 3,
     "metadata": {},
     "output_type": "execute_result"
    }
   ],
   "source": [
    "Y_train = train.label\n",
    "X_train = train.drop(labels=\"label\", axis = 1)\n",
    "\n",
    "del train\n",
    "\n",
    "X_train.isnull().any().describe()"
   ]
  },
  {
   "cell_type": "code",
   "execution_count": 4,
   "metadata": {},
   "outputs": [
    {
     "data": {
      "text/plain": [
       "count       784\n",
       "unique        1\n",
       "top       False\n",
       "freq        784\n",
       "dtype: object"
      ]
     },
     "execution_count": 4,
     "metadata": {},
     "output_type": "execute_result"
    }
   ],
   "source": [
    "test.isnull().any().describe()"
   ]
  },
  {
   "cell_type": "code",
   "execution_count": 5,
   "metadata": {},
   "outputs": [],
   "source": [
    "# Normamalize the data\n",
    "X_train = X_train / 255.0\n",
    "test = test / 255.0"
   ]
  },
  {
   "cell_type": "code",
   "execution_count": 6,
   "metadata": {},
   "outputs": [],
   "source": [
    "X_train = X_train.values.reshape(-1, 28, 28, 1)\n",
    "test = test.values.reshape(-1, 28, 28, 1)"
   ]
  },
  {
   "cell_type": "code",
   "execution_count": 7,
   "metadata": {},
   "outputs": [],
   "source": [
    "Y_train = to_categorical(Y_train, num_classes=10)"
   ]
  },
  {
   "cell_type": "code",
   "execution_count": 8,
   "metadata": {},
   "outputs": [],
   "source": [
    "random_seed = 5\n",
    "\n",
    "X_train, X_val, Y_train, Y_val = train_test_split(X_train, Y_train, test_size =0.1, random_state = random_seed)"
   ]
  },
  {
   "cell_type": "code",
   "execution_count": 9,
   "metadata": {},
   "outputs": [
    {
     "data": {
      "image/png": "[encoded data removed]",
      "text/plain": [
       "<Figure size 432x288 with 1 Axes>"
      ]
     },
     "metadata": {
      "needs_background": "light"
     },
     "output_type": "display_data"
    }
   ],
   "source": [
    "g = plt.imshow(X_train[2][:,:,0])"
   ]
  },
  {
   "cell_type": "code",
   "execution_count": 14,
   "metadata": {},
   "outputs": [],
   "source": [
    "model = Sequential()\n",
    "\n",
    "model.add(Conv2D(filters = 32, kernel_size = 3, activation = \"relu\", input_shape = (28,28,1)))\n",
    "model.add(BatchNormalization())\n",
    "model.add(Conv2D(filters = 32, kernel_size = 3, activation = \"relu\"))\n",
    "model.add(BatchNormalization())\n",
    "model.add(Conv2D(filters=32,kernel_size=5,strides=2,padding='same',activation='relu'))\n",
    "model.add(BatchNormalization())\n",
    "model.add(Dropout(rate = 0.4))\n",
    "\n",
    "model.add(Conv2D(filters = 64, kernel_size = 3, activation = \"relu\"))\n",
    "model.add(BatchNormalization())\n",
    "model.add(Conv2D(filters = 64, kernel_size = 3, activation = \"relu\"))\n",
    "model.add(BatchNormalization())\n",
    "model.add(Conv2D(filters = 64, kernel_size = 5, strides = 2,activation = \"relu\", padding = \"same\"))\n",
    "model.add(BatchNormalization())\n",
    "model.add(Dropout(rate = 0.4))\n",
    "\n",
    "model.add(Flatten())\n",
    "model.add(Dense(128, activation= \"relu\"))\n",
    "model.add(BatchNormalization())\n",
    "model.add(Dropout(rate = 0.4))\n",
    "model.add(Dense(10, activation = \"softmax\"))"
   ]
  },
  {
   "cell_type": "code",
   "execution_count": 15,
   "metadata": {},
   "outputs": [],
   "source": [
    "model.compile(optimizer=\"adam\", loss = \"categorical_crossentropy\", metrics= [\"accuracy\"])"
   ]
  },
  {
   "cell_type": "code",
   "execution_count": 16,
   "metadata": {},
   "outputs": [],
   "source": [
    "learning_rate_reduction = ReduceLROnPlateau(monitor='val_acc', \n",
    "                                            patience=3, \n",
    "                                            verbose=1, \n",
    "                                            factor=0.5, \n",
    "                                            min_lr=0.00001)"
   ]
  },
  {
   "cell_type": "code",
   "execution_count": 17,
   "metadata": {},
   "outputs": [
    {
     "name": "stdout",
     "output_type": "stream",
     "text": [
      "_________________________________________________________________\n",
      "Layer (type)                 Output Shape              Param #   \n",
      "=================================================================\n",
      "conv2d_7 (Conv2D)            (None, 26, 26, 32)        320       \n",
      "_________________________________________________________________\n",
      "batch_normalization_8 (Batch (None, 26, 26, 32)        128       \n",
      "_________________________________________________________________\n",
      "conv2d_8 (Conv2D)            (None, 24, 24, 32)        9248      \n",
      "_________________________________________________________________\n",
      "batch_normalization_9 (Batch (None, 24, 24, 32)        128       \n",
      "_________________________________________________________________\n",
      "conv2d_9 (Conv2D)            (None, 12, 12, 32)        25632     \n",
      "_________________________________________________________________\n",
      "batch_normalization_10 (Batc (None, 12, 12, 32)        128       \n",
      "_________________________________________________________________\n",
      "dropout_4 (Dropout)          (None, 12, 12, 32)        0         \n",
      "_________________________________________________________________\n",
      "conv2d_10 (Conv2D)           (None, 10, 10, 64)        18496     \n",
      "_________________________________________________________________\n",
      "batch_normalization_11 (Batc (None, 10, 10, 64)        256       \n",
      "_________________________________________________________________\n",
      "conv2d_11 (Conv2D)           (None, 8, 8, 64)          36928     \n",
      "_________________________________________________________________\n",
      "batch_normalization_12 (Batc (None, 8, 8, 64)          256       \n",
      "_________________________________________________________________\n",
      "conv2d_12 (Conv2D)           (None, 4, 4, 64)          102464    \n",
      "_________________________________________________________________\n",
      "batch_normalization_13 (Batc (None, 4, 4, 64)          256       \n",
      "_________________________________________________________________\n",
      "dropout_5 (Dropout)          (None, 4, 4, 64)          0         \n",
      "_________________________________________________________________\n",
      "flatten_2 (Flatten)          (None, 1024)              0         \n",
      "_________________________________________________________________\n",
      "dense_3 (Dense)              (None, 128)               131200    \n",
      "_________________________________________________________________\n",
      "batch_normalization_14 (Batc (None, 128)               512       \n",
      "_________________________________________________________________\n",
      "dropout_6 (Dropout)          (None, 128)               0         \n",
      "_________________________________________________________________\n",
      "dense_4 (Dense)              (None, 10)                1290      \n",
      "=================================================================\n",
      "Total params: 327,242\n",
      "Trainable params: 326,410\n",
      "Non-trainable params: 832\n",
      "_________________________________________________________________\n"
     ]
    }
   ],
   "source": [
    "model.summary()"
   ]
  },
  {
   "cell_type": "code",
   "execution_count": 18,
   "metadata": {},
   "outputs": [],
   "source": [
    "datagen = ImageDataGenerator(\n",
    "        rotation_range=10,  \n",
    "        zoom_range = 0.10,  \n",
    "        width_shift_range=0.1, \n",
    "        height_shift_range=0.1)"
   ]
  },
  {
   "cell_type": "code",
   "execution_count": 19,
   "metadata": {},
   "outputs": [],
   "source": [
    "datagen.fit(X_train)"
   ]
  },
  {
   "cell_type": "code",
   "execution_count": 20,
   "metadata": {},
   "outputs": [],
   "source": [
    "epochs = 30\n",
    "batch_size = 64"
   ]
  },
  {
   "cell_type": "code",
   "execution_count": 22,
   "metadata": {},
   "outputs": [
    {
     "name": "stdout",
     "output_type": "stream",
     "text": [
      "Epoch 1/30\n",
      " - 226s - loss: 0.0760 - acc: 0.9772 - val_loss: 0.0392 - val_acc: 0.9888\n",
      "Epoch 2/30\n",
      " - 227s - loss: 0.0728 - acc: 0.9781 - val_loss: 0.0295 - val_acc: 0.9905\n",
      "Epoch 3/30\n",
      " - 226s - loss: 0.0620 - acc: 0.9814 - val_loss: 0.0278 - val_acc: 0.9914\n",
      "Epoch 4/30\n",
      " - 226s - loss: 0.0574 - acc: 0.9828 - val_loss: 0.0216 - val_acc: 0.9936\n",
      "Epoch 5/30\n",
      " - 226s - loss: 0.0551 - acc: 0.9834 - val_loss: 0.0317 - val_acc: 0.9912\n",
      "Epoch 6/30\n",
      " - 226s - loss: 0.0513 - acc: 0.9841 - val_loss: 0.0268 - val_acc: 0.9929\n",
      "Epoch 7/30\n",
      " - 226s - loss: 0.0545 - acc: 0.9842 - val_loss: 0.0229 - val_acc: 0.9931\n",
      "\n",
      "Epoch 00007: ReduceLROnPlateau reducing learning rate to 0.0005000000237487257.\n",
      "Epoch 8/30\n",
      " - 228s - loss: 0.0391 - acc: 0.9885 - val_loss: 0.0204 - val_acc: 0.9943\n",
      "Epoch 9/30\n",
      " - 228s - loss: 0.0364 - acc: 0.9894 - val_loss: 0.0239 - val_acc: 0.9938\n",
      "Epoch 10/30\n",
      " - 227s - loss: 0.0341 - acc: 0.9892 - val_loss: 0.0227 - val_acc: 0.9943\n",
      "Epoch 11/30\n",
      " - 227s - loss: 0.0348 - acc: 0.9898 - val_loss: 0.0233 - val_acc: 0.9940\n",
      "\n",
      "Epoch 00011: ReduceLROnPlateau reducing learning rate to 0.0002500000118743628.\n",
      "Epoch 12/30\n",
      " - 227s - loss: 0.0274 - acc: 0.9918 - val_loss: 0.0191 - val_acc: 0.9952\n",
      "Epoch 13/30\n",
      " - 226s - loss: 0.0267 - acc: 0.9921 - val_loss: 0.0199 - val_acc: 0.9952\n",
      "Epoch 14/30\n",
      " - 227s - loss: 0.0265 - acc: 0.9920 - val_loss: 0.0201 - val_acc: 0.9952\n",
      "Epoch 15/30\n",
      " - 226s - loss: 0.0248 - acc: 0.9930 - val_loss: 0.0193 - val_acc: 0.9948\n",
      "\n",
      "Epoch 00015: ReduceLROnPlateau reducing learning rate to 0.0001250000059371814.\n",
      "Epoch 16/30\n",
      " - 227s - loss: 0.0207 - acc: 0.9936 - val_loss: 0.0192 - val_acc: 0.9945\n",
      "Epoch 17/30\n",
      " - 227s - loss: 0.0211 - acc: 0.9939 - val_loss: 0.0183 - val_acc: 0.9952\n",
      "Epoch 18/30\n",
      " - 226s - loss: 0.0200 - acc: 0.9943 - val_loss: 0.0192 - val_acc: 0.9948\n",
      "\n",
      "Epoch 00018: ReduceLROnPlateau reducing learning rate to 6.25000029685907e-05.\n",
      "Epoch 19/30\n",
      " - 227s - loss: 0.0190 - acc: 0.9943 - val_loss: 0.0186 - val_acc: 0.9945\n",
      "Epoch 20/30\n",
      " - 227s - loss: 0.0184 - acc: 0.9942 - val_loss: 0.0189 - val_acc: 0.9945\n",
      "Epoch 21/30\n",
      " - 227s - loss: 0.0201 - acc: 0.9937 - val_loss: 0.0190 - val_acc: 0.9955\n",
      "Epoch 22/30\n",
      " - 226s - loss: 0.0187 - acc: 0.9946 - val_loss: 0.0179 - val_acc: 0.9955\n",
      "Epoch 23/30\n",
      " - 226s - loss: 0.0178 - acc: 0.9944 - val_loss: 0.0176 - val_acc: 0.9960\n",
      "Epoch 24/30\n",
      " - 227s - loss: 0.0165 - acc: 0.9954 - val_loss: 0.0177 - val_acc: 0.9957\n",
      "Epoch 25/30\n",
      " - 228s - loss: 0.0168 - acc: 0.9950 - val_loss: 0.0183 - val_acc: 0.9955\n",
      "Epoch 26/30\n",
      " - 227s - loss: 0.0168 - acc: 0.9948 - val_loss: 0.0186 - val_acc: 0.9952\n",
      "\n",
      "Epoch 00026: ReduceLROnPlateau reducing learning rate to 3.125000148429535e-05.\n",
      "Epoch 27/30\n",
      " - 226s - loss: 0.0169 - acc: 0.9949 - val_loss: 0.0185 - val_acc: 0.9957\n",
      "Epoch 28/30\n",
      " - 227s - loss: 0.0169 - acc: 0.9952 - val_loss: 0.0189 - val_acc: 0.9955\n",
      "Epoch 29/30\n",
      " - 228s - loss: 0.0167 - acc: 0.9951 - val_loss: 0.0189 - val_acc: 0.9955\n",
      "\n",
      "Epoch 00029: ReduceLROnPlateau reducing learning rate to 1.5625000742147677e-05.\n",
      "Epoch 30/30\n",
      " - 227s - loss: 0.0164 - acc: 0.9949 - val_loss: 0.0188 - val_acc: 0.9955\n"
     ]
    }
   ],
   "source": [
    "hist = model.fit_generator(datagen.flow(X_train, Y_train, batch_size = batch_size),\n",
    "                          epochs=epochs, validation_data=(X_val, Y_val),\n",
    "                          steps_per_epoch= X_train.shape[0] // batch_size,\n",
    "                          verbose= 2, callbacks=[learning_rate_reduction])"
   ]
  },
  {
   "cell_type": "code",
   "execution_count": null,
   "metadata": {},
   "outputs": [],
   "source": [
    "\n",
    "# Load an color image in grayscale\n",
    "img = cv2.imread('@@@3.jpg',0)\n",
    "img = cv2.resize(img, (28 , 28))\n",
    "blur = cv2.GaussianBlur(img,(5,5),0)\n",
    "ret3,th3 = cv2.threshold(blur,0,255,cv2.THRESH_BINARY+cv2.THRESH_OTSU)\n",
    "gray=th3\n",
    "while np.sum(gray[0]) == 0:\n",
    "    gray = gray[1:]\n",
    "\n",
    "while np.sum(gray[:,0]) == 0:\n",
    "    gray = np.delete(gray,0,1)\n",
    "\n",
    "while np.sum(gray[-1]) == 0:\n",
    "    gray = gray[:-1]\n",
    "\n",
    "while np.sum(gray[:,-1]) == 0:\n",
    "    gray = np.delete(gray,-1,1)\n",
    "\n",
    "rows,cols = gray.shape\n",
    "if rows > cols:\n",
    "    factor = 20.0/rows\n",
    "    rows = 20\n",
    "    cols = int(round(cols*factor))\n",
    "    gray = cv2.resize(gray, (cols,rows))\n",
    "else:\n",
    "    factor = 20.0/cols\n",
    "    cols = 20\n",
    "    rows = int(round(rows*factor))\n",
    "    gray = cv2.resize(gray, (cols, rows))\n",
    "    \n",
    "    \n",
    "colsPadding = (int(math.ceil((28-cols)/2.0)),int(math.floor((28-cols)/2.0)))\n",
    "rowsPadding = (int(math.ceil((28-rows)/2.0)),int(math.floor((28-rows)/2.0)))\n",
    "gray = np.lib.pad(gray,(rowsPadding,colsPadding),'constant')\n",
    "g=gray\n",
    "\n",
    "def getBestShift(img):\n",
    "    cy,cx = ndimage.measurements.center_of_mass(img)\n",
    "    rows,cols = img.shape\n",
    "    shiftx = np.round(cols/2.0-cx).astype(int)\n",
    "    shifty = np.round(rows/2.0-cy).astype(int)\n",
    "\n",
    "    return shiftx,shifty\n",
    "\n",
    "def shift(img,sx,sy):\n",
    "    rows,cols = img.shape\n",
    "    M = np.float32([[1,0,sx],[0,1,sy]])\n",
    "    shifted = cv2.warpAffine(img,M,(cols,rows))\n",
    "    return shifted\n",
    "shiftx,shifty = getBestShift(g)\n",
    "shifted = shift(g,shiftx,shifty)\n",
    "g = shifted\n",
    "kernel = np.ones((5,5),np.uint8)\n",
    "erosion = cv2.erode(g,kernel,iterations = 1)\n"
   ]
  },
  {
   "cell_type": "code",
   "execution_count": null,
   "metadata": {},
   "outputs": [],
   "source": [
    "ret,erosion = cv2.threshold(img,127,255,cv2.THRESH_BINARY_INV)"
   ]
  },
  {
   "cell_type": "code",
   "execution_count": null,
   "metadata": {},
   "outputs": [],
   "source": [
    "Y = erosion.reshape(-1,28,28,1)"
   ]
  },
  {
   "cell_type": "code",
   "execution_count": null,
   "metadata": {},
   "outputs": [],
   "source": [
    "print(erosion.shape)"
   ]
  },
  {
   "cell_type": "code",
   "execution_count": null,
   "metadata": {},
   "outputs": [],
   "source": [
    "cv2.imshow('image',img)\n",
    "cv2.waitKey(1)\n",
    "cv2.destroyAllWindows()"
   ]
  },
  {
   "cell_type": "code",
   "execution_count": null,
   "metadata": {},
   "outputs": [],
   "source": [
    "results = model.predict(Y)\n",
    "\n",
    "results = np.argmax(results, axis = 1)\n",
    "results = pd.Series(results, name = \"Label\")\n",
    "print(results)"
   ]
  }
 ],
 "metadata": {
  "kernelspec": {
   "display_name": "Python 3",
   "language": "python",
   "name": "python3"
  },
  "language_info": {
   "codemirror_mode": {
    "name": "ipython",
    "version": 3
   },
   "file_extension": ".py",
   "mimetype": "text/x-python",
   "name": "python",
   "nbconvert_exporter": "python",
   "pygments_lexer": "ipython3",
   "version": "3.7.3"
  }
 },
 "nbformat": 4,
 "nbformat_minor": 2
}
